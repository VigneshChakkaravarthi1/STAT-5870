{
 "cells": [
  {
   "cell_type": "markdown",
   "id": "b998fa60",
   "metadata": {},
   "source": [
    "# Factorial Function using Recursion"
   ]
  },
  {
   "cell_type": "code",
   "execution_count": 28,
   "id": "f11fe2a1",
   "metadata": {},
   "outputs": [],
   "source": [
    "def factorial(num):\n",
    "    if(num <0):\n",
    "        return 'Factorial no defined for negative numbers'\n",
    "    if (num ==0 or num ==1):\n",
    "        return 1\n",
    "    else :\n",
    "        return num *factorial(num-1)"
   ]
  },
  {
   "cell_type": "markdown",
   "id": "5fbf2a41",
   "metadata": {},
   "source": [
    "Factorial Function call Below for factorial of 0, 10"
   ]
  },
  {
   "cell_type": "code",
   "execution_count": 38,
   "id": "9d7b6d5f",
   "metadata": {},
   "outputs": [
    {
     "name": "stdout",
     "output_type": "stream",
     "text": [
      "1\n",
      "3628800\n"
     ]
    }
   ],
   "source": [
    "print(factorial(0))\n",
    "print(factorial(10))"
   ]
  },
  {
   "cell_type": "markdown",
   "id": "e3fedbeb",
   "metadata": {},
   "source": [
    "# Making BLT sandwiches"
   ]
  },
  {
   "cell_type": "code",
   "execution_count": 32,
   "id": "8469722b",
   "metadata": {},
   "outputs": [],
   "source": [
    "import math\n",
    "def make_blt(b,l,t):\n",
    "    return math.floor(min(b/8,l/3,t/4))  "
   ]
  },
  {
   "cell_type": "markdown",
   "id": "6ada9ad5",
   "metadata": {},
   "source": [
    "Function call below"
   ]
  },
  {
   "cell_type": "code",
   "execution_count": 34,
   "id": "7a8b7ee4",
   "metadata": {},
   "outputs": [
    {
     "data": {
      "text/plain": [
       "12"
      ]
     },
     "execution_count": 34,
     "metadata": {},
     "output_type": "execute_result"
    }
   ],
   "source": [
    "make_blt(100,50,70)"
   ]
  },
  {
   "cell_type": "markdown",
   "id": "700878cb",
   "metadata": {},
   "source": [
    "# Calories Burned Calculator"
   ]
  },
  {
   "cell_type": "code",
   "execution_count": 52,
   "id": "878fae03",
   "metadata": {},
   "outputs": [
    {
     "name": "stdout",
     "output_type": "stream",
     "text": [
      "You calories burned is  231.4\n"
     ]
    }
   ],
   "source": [
    "def caloriesBurned(weight,miles_ran):\n",
    "    print('You calories burned is ',round(weight*miles_ran*0.65,1))\n",
    "\n",
    "caloriesBurned(178,2)"
   ]
  },
  {
   "cell_type": "code",
   "execution_count": null,
   "id": "5827d0c7",
   "metadata": {},
   "outputs": [],
   "source": []
  }
 ],
 "metadata": {
  "kernelspec": {
   "display_name": "Python 3 (ipykernel)",
   "language": "python",
   "name": "python3"
  },
  "language_info": {
   "codemirror_mode": {
    "name": "ipython",
    "version": 3
   },
   "file_extension": ".py",
   "mimetype": "text/x-python",
   "name": "python",
   "nbconvert_exporter": "python",
   "pygments_lexer": "ipython3",
   "version": "3.11.4"
  }
 },
 "nbformat": 4,
 "nbformat_minor": 5
}
